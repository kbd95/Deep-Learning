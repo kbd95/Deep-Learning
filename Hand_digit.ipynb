{
 "cells": [
  {
   "cell_type": "markdown",
   "id": "minimal-witch",
   "metadata": {},
   "source": [
    "# Hand Digit Recognition"
   ]
  },
  {
   "cell_type": "code",
   "execution_count": 1,
   "id": "three-address",
   "metadata": {},
   "outputs": [],
   "source": [
    "from numpy import unique,argmax\n",
    "from tensorflow.keras.datasets.mnist import load_data\n",
    "from tensorflow.keras import Sequential\n",
    "from tensorflow.keras.layers import Conv2D\n",
    "from tensorflow.keras.layers import MaxPool2D\n",
    "from tensorflow.keras.layers import Dense\n",
    "from tensorflow.keras.layers import Flatten\n",
    "from tensorflow.keras.layers import Dropout\n",
    "from tensorflow.keras.utils import plot_model\n",
    "import matplotlib.pyplot as plt\n",
    "import numpy as np"
   ]
  },
  {
   "cell_type": "code",
   "execution_count": 2,
   "id": "hybrid-excellence",
   "metadata": {},
   "outputs": [
    {
     "name": "stdout",
     "output_type": "stream",
     "text": [
      "Requirement already satisfied: pydot in /home/ritesh/anaconda3/lib/python3.7/site-packages (1.4.2)\r\n",
      "Requirement already satisfied: pyparsing>=2.1.4 in /home/ritesh/anaconda3/lib/python3.7/site-packages (from pydot) (2.4.7)\r\n"
     ]
    }
   ],
   "source": [
    "!pip install pydot"
   ]
  },
  {
   "cell_type": "code",
   "execution_count": 3,
   "id": "primary-bottle",
   "metadata": {},
   "outputs": [],
   "source": [
    "# Loading the MNIST dataset\n",
    "(x_train,y_train),(x_test,y_test) = load_data()\n",
    "\n",
    "# Reshaping the training and testing data\n",
    "x_train = x_train.reshape((x_train.shape[0],x_train.shape[1],\n",
    "                         x_train.shape[2],1))\n",
    "x_test = x_test.reshape((x_test.shape[0],x_test.shape[1],\n",
    "                        x_test.shape[2],1))"
   ]
  },
  {
   "cell_type": "code",
   "execution_count": 4,
   "id": "ignored-horizon",
   "metadata": {},
   "outputs": [],
   "source": [
    "# Normalizing the valus of pixels of images\n",
    "x_train = x_train.astype(\"float32\")/255.0\n",
    "x_test = x_test.astype(\"float32\")/255"
   ]
  },
  {
   "cell_type": "code",
   "execution_count": 5,
   "id": "outer-restaurant",
   "metadata": {},
   "outputs": [
    {
     "data": {
      "image/png": "[encoded data removed]",
      "text/plain": [
       "<Figure size 360x216 with 15 Axes>"
      ]
     },
     "metadata": {},
     "output_type": "display_data"
    }
   ],
   "source": [
    "fig = plt.figure(figsize = (5,3))\n",
    "for i in range(15):\n",
    "    ax = fig.add_subplot(2,10,i+1,xticks = [],yticks = [])\n",
    "    ax.imshow(np.squeeze(x_train[i]),cmap = 'gray')\n",
    "    ax.set_title(y_train[i])"
   ]
  },
  {
   "cell_type": "code",
   "execution_count": 6,
   "id": "historic-nylon",
   "metadata": {},
   "outputs": [
    {
     "name": "stdout",
     "output_type": "stream",
     "text": [
      "(28, 28, 1)\n"
     ]
    }
   ],
   "source": [
    "# Determine the shape of the input images\n",
    "img_shape = x_train.shape[1:]\n",
    "print(img_shape)\n"
   ]
  },
  {
   "cell_type": "code",
   "execution_count": 7,
   "id": "anticipated-prairie",
   "metadata": {},
   "outputs": [],
   "source": [
    "# Defining the model\n",
    "model = Sequential()\n",
    "model.add(Conv2D(32,(3,3),activation =\"relu\",input_shape = img_shape))\n",
    "model.add(MaxPool2D((2,2)))\n",
    "model.add(Conv2D(48,(3,3),activation = \"relu\"))\n",
    "model.add(MaxPool2D((2,2)))\n",
    "model.add(Dropout(0.5))\n",
    "model.add(Flatten())\n",
    "model.add(Dense(500,activation = \"relu\"))\n",
    "model.add(Dense(10,activation = \"softmax\"))"
   ]
  },
  {
   "cell_type": "code",
   "execution_count": 8,
   "id": "interim-mixer",
   "metadata": {},
   "outputs": [
    {
     "name": "stdout",
     "output_type": "stream",
     "text": [
      "Model: \"sequential\"\n",
      "_________________________________________________________________\n",
      "Layer (type)                 Output Shape              Param #   \n",
      "=================================================================\n",
      "conv2d (Conv2D)              (None, 26, 26, 32)        320       \n",
      "_________________________________________________________________\n",
      "max_pooling2d (MaxPooling2D) (None, 13, 13, 32)        0         \n",
      "_________________________________________________________________\n",
      "conv2d_1 (Conv2D)            (None, 11, 11, 48)        13872     \n",
      "_________________________________________________________________\n",
      "max_pooling2d_1 (MaxPooling2 (None, 5, 5, 48)          0         \n",
      "_________________________________________________________________\n",
      "dropout (Dropout)            (None, 5, 5, 48)          0         \n",
      "_________________________________________________________________\n",
      "flatten (Flatten)            (None, 1200)              0         \n",
      "_________________________________________________________________\n",
      "dense (Dense)                (None, 500)               600500    \n",
      "_________________________________________________________________\n",
      "dense_1 (Dense)              (None, 10)                5010      \n",
      "=================================================================\n",
      "Total params: 619,702\n",
      "Trainable params: 619,702\n",
      "Non-trainable params: 0\n",
      "_________________________________________________________________\n"
     ]
    }
   ],
   "source": [
    "model.summary()"
   ]
  },
  {
   "cell_type": "code",
   "execution_count": 9,
   "id": "noble-citation",
   "metadata": {},
   "outputs": [
    {
     "name": "stdout",
     "output_type": "stream",
     "text": [
      "Epoch 1/10\n",
      "422/422 - 16s - loss: 0.2372 - accuracy: 0.9282 - val_loss: 0.0583 - val_accuracy: 0.9833\n",
      "Epoch 2/10\n",
      "422/422 - 17s - loss: 0.0805 - accuracy: 0.9751 - val_loss: 0.0394 - val_accuracy: 0.9882\n",
      "Epoch 3/10\n",
      "422/422 - 20s - loss: 0.0580 - accuracy: 0.9817 - val_loss: 0.0341 - val_accuracy: 0.9902\n",
      "Epoch 4/10\n",
      "422/422 - 20s - loss: 0.0475 - accuracy: 0.9846 - val_loss: 0.0316 - val_accuracy: 0.9907\n",
      "Epoch 5/10\n",
      "422/422 - 21s - loss: 0.0406 - accuracy: 0.9869 - val_loss: 0.0275 - val_accuracy: 0.9923\n",
      "Epoch 6/10\n",
      "422/422 - 23s - loss: 0.0355 - accuracy: 0.9883 - val_loss: 0.0289 - val_accuracy: 0.9918\n",
      "Epoch 7/10\n",
      "422/422 - 23s - loss: 0.0311 - accuracy: 0.9902 - val_loss: 0.0285 - val_accuracy: 0.9922\n",
      "Epoch 8/10\n",
      "422/422 - 22s - loss: 0.0280 - accuracy: 0.9910 - val_loss: 0.0262 - val_accuracy: 0.9928\n",
      "Epoch 9/10\n",
      "422/422 - 21s - loss: 0.0265 - accuracy: 0.9914 - val_loss: 0.0235 - val_accuracy: 0.9922\n",
      "Epoch 10/10\n",
      "422/422 - 21s - loss: 0.0232 - accuracy: 0.9922 - val_loss: 0.0236 - val_accuracy: 0.9935\n"
     ]
    }
   ],
   "source": [
    "model.compile(optimizer=\"adam\",loss = 'sparse_categorical_crossentropy',\n",
    "                         metrics = [\"accuracy\"])\n",
    "x = model.fit(x_train,y_train,epochs=10,batch_size=128,verbose=2,validation_split=0.1)"
   ]
  },
  {
   "cell_type": "code",
   "execution_count": 16,
   "id": "southern-following",
   "metadata": {},
   "outputs": [
    {
     "name": "stdout",
     "output_type": "stream",
     "text": [
      "Accuracy: 99.30999875068665\n"
     ]
    }
   ],
   "source": [
    "loss,accuracy = model.evaluate(x_test,y_test,verbose=0)\n",
    "print(f\"Accuracy: {accuracy*100}\")"
   ]
  },
  {
   "cell_type": "code",
   "execution_count": 17,
   "id": "informal-reality",
   "metadata": {},
   "outputs": [],
   "source": [
    "from IPython.display import Image"
   ]
  },
  {
   "cell_type": "code",
   "execution_count": 45,
   "id": "viral-control",
   "metadata": {},
   "outputs": [
    {
     "data": {
      "image/png": "[encoded data removed]",
      "text/plain": [
       "<Figure size 432x288 with 1 Axes>"
      ]
     },
     "metadata": {
      "needs_background": "light"
     },
     "output_type": "display_data"
    }
   ],
   "source": [
    "image = x_train[9769]\n",
    "# lets display the image which we want to predict\n",
    "plt.imshow(np.squeeze(image),cmap = 'gray')\n",
    "plt.show()"
   ]
  },
  {
   "cell_type": "code",
   "execution_count": 46,
   "id": "twenty-spine",
   "metadata": {},
   "outputs": [
    {
     "name": "stdout",
     "output_type": "stream",
     "text": [
      "Predicted: 8\n"
     ]
    }
   ],
   "source": [
    "image = image.reshape(1,image.shape[0],image.shape[1],image.shape[2])\n",
    "p = model.predict([image])\n",
    "print('Predicted: {}'.format(argmax(p)))"
   ]
  },
  {
   "cell_type": "code",
   "execution_count": null,
   "id": "direct-difficulty",
   "metadata": {},
   "outputs": [],
   "source": []
  }
 ],
 "metadata": {
  "kernelspec": {
   "display_name": "Python 3",
   "language": "python",
   "name": "python3"
  },
  "language_info": {
   "codemirror_mode": {
    "name": "ipython",
    "version": 3
   },
   "file_extension": ".py",
   "mimetype": "text/x-python",
   "name": "python",
   "nbconvert_exporter": "python",
   "pygments_lexer": "ipython3",
   "version": "3.7.10"
  }
 },
 "nbformat": 4,
 "nbformat_minor": 5
}
