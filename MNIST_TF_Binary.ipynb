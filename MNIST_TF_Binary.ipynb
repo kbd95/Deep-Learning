{
  "nbformat": 4,
  "nbformat_minor": 0,
  "metadata": {
    "colab": {
      "name": "MNIST_TF_Binary.ipynb",
      "provenance": [],
      "collapsed_sections": [],
      "include_colab_link": true
    },
    "kernelspec": {
      "name": "python3",
      "display_name": "Python 3"
    },
    "language_info": {
      "name": "python"
    },
    "accelerator": "GPU"
  },
  "cells": [
    {
      "cell_type": "markdown",
      "metadata": {
        "id": "view-in-github",
        "colab_type": "text"
      },
      "source": [
        "<a href=\"https://colab.research.google.com/github/kbd95/Deep-Learning/blob/main/MNIST_TF_Binary.ipynb\" target=\"_parent\"><img src=\"https://colab.research.google.com/assets/colab-badge.svg\" alt=\"Open In Colab\"/></a>"
      ]
    },
    {
      "cell_type": "markdown",
      "metadata": {
        "id": "4q16smmGXvkD"
      },
      "source": [
        "# label > 5 =>> 1\n",
        "# label <= 5 =>> 0"
      ]
    },
    {
      "cell_type": "code",
      "metadata": {
        "id": "cBN6PkuRJZ8U",
        "colab": {
          "base_uri": "https://localhost:8080/"
        },
        "outputId": "9cf897c7-6283-49b4-d1f3-88dcd8688b01"
      },
      "source": [
        "import os\n",
        "import tensorflow as tf\n",
        "import numpy as np\n",
        "import matplotlib.pyplot as plt\n",
        "import seaborn as sns\n",
        "plt.style.use(\"fivethirtyeight\")\n",
        "%load_ext tensorboard"
      ],
      "execution_count": 47,
      "outputs": [
        {
          "output_type": "stream",
          "text": [
            "The tensorboard extension is already loaded. To reload it, use:\n",
            "  %reload_ext tensorboard\n"
          ],
          "name": "stdout"
        }
      ]
    },
    {
      "cell_type": "code",
      "metadata": {
        "id": "0sp7OPvPMSvA"
      },
      "source": [
        "(X_train_full, y_train_full), (X_test, y_test) = tf.keras.datasets.mnist.load_data()\n",
        "X_train_full = X_train_full / 255.0\n",
        "X_test = X_test / 255.0\n",
        "X_valid, X_train = X_train_full[:5000], X_train_full[5000:]\n",
        "y_valid, y_train = y_train_full[:5000], y_train_full[5000:]"
      ],
      "execution_count": 48,
      "outputs": []
    },
    {
      "cell_type": "code",
      "metadata": {
        "id": "M1_QZmzsMVzh"
      },
      "source": [
        "tf.random.set_seed(42)\n",
        "np.random.seed(42)\n",
        "\n",
        "LAYERS = [ tf.keras.layers.Flatten(input_shape=[28, 28]),\n",
        "    tf.keras.layers.Dense(300, kernel_initializer=\"he_normal\"),\n",
        "    tf.keras.layers.LeakyReLU(),\n",
        "    tf.keras.layers.Dense(100, kernel_initializer=\"he_normal\"),\n",
        "    tf.keras.layers.LeakyReLU(),\n",
        "    tf.keras.layers.Dense(10, activation=\"softmax\")]\n",
        "\n",
        "\n",
        "model = tf.keras.models.Sequential(LAYERS)"
      ],
      "execution_count": 49,
      "outputs": []
    },
    {
      "cell_type": "code",
      "metadata": {
        "id": "52m7m4t7MmgW"
      },
      "source": [
        "model.compile(loss=\"sparse_categorical_crossentropy\",\n",
        "              optimizer=tf.keras.optimizers.SGD(learning_rate=1e-3),\n",
        "              metrics=[\"accuracy\"])"
      ],
      "execution_count": 50,
      "outputs": []
    },
    {
      "cell_type": "code",
      "metadata": {
        "colab": {
          "base_uri": "https://localhost:8080/"
        },
        "id": "xDAnR__Vhl-A",
        "outputId": "6a7d566b-62fc-4fb3-b9c3-a5580ea68868"
      },
      "source": [
        "from google.colab import drive\n",
        "drive.mount('/content/drive')"
      ],
      "execution_count": 51,
      "outputs": [
        {
          "output_type": "stream",
          "text": [
            "Drive already mounted at /content/drive; to attempt to forcibly remount, call drive.mount(\"/content/drive\", force_remount=True).\n"
          ],
          "name": "stdout"
        }
      ]
    },
    {
      "cell_type": "code",
      "metadata": {
        "colab": {
          "base_uri": "https://localhost:8080/"
        },
        "id": "eUNuDFB0MpvB",
        "outputId": "adb8ea2f-39d3-4858-8b0e-748b1538e2b3"
      },
      "source": [
        "model.summary()"
      ],
      "execution_count": 52,
      "outputs": [
        {
          "output_type": "stream",
          "text": [
            "Model: \"sequential_5\"\n",
            "_________________________________________________________________\n",
            "Layer (type)                 Output Shape              Param #   \n",
            "=================================================================\n",
            "flatten_1 (Flatten)          (None, 784)               0         \n",
            "_________________________________________________________________\n",
            "dense_7 (Dense)              (None, 300)               235500    \n",
            "_________________________________________________________________\n",
            "leaky_re_lu_2 (LeakyReLU)    (None, 300)               0         \n",
            "_________________________________________________________________\n",
            "dense_8 (Dense)              (None, 100)               30100     \n",
            "_________________________________________________________________\n",
            "leaky_re_lu_3 (LeakyReLU)    (None, 100)               0         \n",
            "_________________________________________________________________\n",
            "dense_9 (Dense)              (None, 10)                1010      \n",
            "=================================================================\n",
            "Total params: 266,610\n",
            "Trainable params: 266,610\n",
            "Non-trainable params: 0\n",
            "_________________________________________________________________\n"
          ],
          "name": "stdout"
        }
      ]
    },
    {
      "cell_type": "code",
      "metadata": {
        "colab": {
          "base_uri": "https://localhost:8080/"
        },
        "id": "oIqzAVXgMv56",
        "outputId": "1bb47539-c374-458b-96b5-b3edcce0e255"
      },
      "source": [
        "history = model.fit(X_train, y_train, epochs=10,\n",
        "                    validation_data=(X_valid, y_valid), verbose=2)"
      ],
      "execution_count": 53,
      "outputs": [
        {
          "output_type": "stream",
          "text": [
            "Epoch 1/10\n",
            "1719/1719 - 3s - loss: 1.5275 - accuracy: 0.5970 - val_loss: 0.9444 - val_accuracy: 0.7980\n",
            "Epoch 2/10\n",
            "1719/1719 - 3s - loss: 0.7465 - accuracy: 0.8287 - val_loss: 0.5868 - val_accuracy: 0.8596\n",
            "Epoch 3/10\n",
            "1719/1719 - 3s - loss: 0.5412 - accuracy: 0.8624 - val_loss: 0.4685 - val_accuracy: 0.8834\n",
            "Epoch 4/10\n",
            "1719/1719 - 3s - loss: 0.4591 - accuracy: 0.8771 - val_loss: 0.4104 - val_accuracy: 0.8940\n",
            "Epoch 5/10\n",
            "1719/1719 - 3s - loss: 0.4142 - accuracy: 0.8869 - val_loss: 0.3758 - val_accuracy: 0.9006\n",
            "Epoch 6/10\n",
            "1719/1719 - 3s - loss: 0.3852 - accuracy: 0.8938 - val_loss: 0.3525 - val_accuracy: 0.9052\n",
            "Epoch 7/10\n",
            "1719/1719 - 3s - loss: 0.3644 - accuracy: 0.8980 - val_loss: 0.3348 - val_accuracy: 0.9102\n",
            "Epoch 8/10\n",
            "1719/1719 - 3s - loss: 0.3485 - accuracy: 0.9022 - val_loss: 0.3209 - val_accuracy: 0.9138\n",
            "Epoch 9/10\n",
            "1719/1719 - 3s - loss: 0.3356 - accuracy: 0.9053 - val_loss: 0.3111 - val_accuracy: 0.9152\n",
            "Epoch 10/10\n",
            "1719/1719 - 3s - loss: 0.3251 - accuracy: 0.9077 - val_loss: 0.3016 - val_accuracy: 0.9170\n"
          ],
          "name": "stdout"
        }
      ]
    },
    {
      "cell_type": "code",
      "metadata": {
        "id": "7kP_8N5tM4yk"
      },
      "source": [
        "model.save(\"pretrained_mnist_model.h5\")"
      ],
      "execution_count": 54,
      "outputs": []
    },
    {
      "cell_type": "markdown",
      "metadata": {
        "id": "kaYSbrAFNQ-z"
      },
      "source": [
        "# Transfer learning"
      ]
    },
    {
      "cell_type": "code",
      "metadata": {
        "id": "QsKBjQyyNIdS"
      },
      "source": [
        "pretrained_mnist_model = tf.keras.models.load_model(\"pretrained_mnist_model.h5\")"
      ],
      "execution_count": 55,
      "outputs": []
    },
    {
      "cell_type": "code",
      "metadata": {
        "colab": {
          "base_uri": "https://localhost:8080/"
        },
        "id": "E3adGZsmNj4z",
        "outputId": "f8235cc7-1890-4b58-bdf0-3661aa7108a0"
      },
      "source": [
        "pretrained_mnist_model.summary()"
      ],
      "execution_count": 56,
      "outputs": [
        {
          "output_type": "stream",
          "text": [
            "Model: \"sequential_5\"\n",
            "_________________________________________________________________\n",
            "Layer (type)                 Output Shape              Param #   \n",
            "=================================================================\n",
            "flatten_1 (Flatten)          (None, 784)               0         \n",
            "_________________________________________________________________\n",
            "dense_7 (Dense)              (None, 300)               235500    \n",
            "_________________________________________________________________\n",
            "leaky_re_lu_2 (LeakyReLU)    (None, 300)               0         \n",
            "_________________________________________________________________\n",
            "dense_8 (Dense)              (None, 100)               30100     \n",
            "_________________________________________________________________\n",
            "leaky_re_lu_3 (LeakyReLU)    (None, 100)               0         \n",
            "_________________________________________________________________\n",
            "dense_9 (Dense)              (None, 10)                1010      \n",
            "=================================================================\n",
            "Total params: 266,610\n",
            "Trainable params: 266,610\n",
            "Non-trainable params: 0\n",
            "_________________________________________________________________\n"
          ],
          "name": "stdout"
        }
      ]
    },
    {
      "cell_type": "code",
      "metadata": {
        "colab": {
          "base_uri": "https://localhost:8080/"
        },
        "id": "5l_yRn0aNpMK",
        "outputId": "d840d8db-6346-46e5-a209-0b6a836194f5"
      },
      "source": [
        "for layer in pretrained_mnist_model.layers:\n",
        "  print(f\"{layer.name}: {layer.trainable}\")"
      ],
      "execution_count": 57,
      "outputs": [
        {
          "output_type": "stream",
          "text": [
            "flatten_1: True\n",
            "dense_7: True\n",
            "leaky_re_lu_2: True\n",
            "dense_8: True\n",
            "leaky_re_lu_3: True\n",
            "dense_9: True\n"
          ],
          "name": "stdout"
        }
      ]
    },
    {
      "cell_type": "code",
      "metadata": {
        "colab": {
          "base_uri": "https://localhost:8080/"
        },
        "id": "FyOArS70OeRS",
        "outputId": "5b8d80cb-cb87-45e4-f0b3-e134b5de0028"
      },
      "source": [
        "a = [1,2,3,4,10]\n",
        "a[0:-1]"
      ],
      "execution_count": 58,
      "outputs": [
        {
          "output_type": "execute_result",
          "data": {
            "text/plain": [
              "[1, 2, 3, 4]"
            ]
          },
          "metadata": {
            "tags": []
          },
          "execution_count": 58
        }
      ]
    },
    {
      "cell_type": "code",
      "metadata": {
        "colab": {
          "base_uri": "https://localhost:8080/"
        },
        "id": "SoKsJVq6Nyot",
        "outputId": "8af41466-144d-40f3-ff80-9baddd22f608"
      },
      "source": [
        "for layer in pretrained_mnist_model.layers[:-1]:\n",
        "  layer.trainable = False\n",
        "  print(f\"{layer.name}: {layer.trainable}\")"
      ],
      "execution_count": 59,
      "outputs": [
        {
          "output_type": "stream",
          "text": [
            "flatten_1: False\n",
            "dense_7: False\n",
            "leaky_re_lu_2: False\n",
            "dense_8: False\n",
            "leaky_re_lu_3: False\n"
          ],
          "name": "stdout"
        }
      ]
    },
    {
      "cell_type": "code",
      "metadata": {
        "colab": {
          "base_uri": "https://localhost:8080/"
        },
        "id": "siWdRqc-ONP_",
        "outputId": "a8475b80-1298-4778-f90d-34f7d4142aeb"
      },
      "source": [
        "for layer in pretrained_mnist_model.layers:\n",
        "  print(f\"{layer.name}: {layer.trainable}\")"
      ],
      "execution_count": 60,
      "outputs": [
        {
          "output_type": "stream",
          "text": [
            "flatten_1: False\n",
            "dense_7: False\n",
            "leaky_re_lu_2: False\n",
            "dense_8: False\n",
            "leaky_re_lu_3: False\n",
            "dense_9: True\n"
          ],
          "name": "stdout"
        }
      ]
    },
    {
      "cell_type": "code",
      "metadata": {
        "id": "I_tps0VSOVSW"
      },
      "source": [
        "lower_pretrained_layers = pretrained_mnist_model.layers[:-1]\n",
        "\n",
        "new_model = tf.keras.models.Sequential(lower_pretrained_layers)\n",
        "new_model.add(\n",
        "    tf.keras.layers.Dense(1, activation=\"sigmoid\")\n",
        ")"
      ],
      "execution_count": 61,
      "outputs": []
    },
    {
      "cell_type": "code",
      "metadata": {
        "colab": {
          "base_uri": "https://localhost:8080/"
        },
        "id": "w0BSHx0YPGMF",
        "outputId": "8641d1bf-958f-4481-9295-ec5db5dd8f0f"
      },
      "source": [
        "new_model.summary()"
      ],
      "execution_count": 62,
      "outputs": [
        {
          "output_type": "stream",
          "text": [
            "Model: \"sequential_6\"\n",
            "_________________________________________________________________\n",
            "Layer (type)                 Output Shape              Param #   \n",
            "=================================================================\n",
            "flatten_1 (Flatten)          (None, 784)               0         \n",
            "_________________________________________________________________\n",
            "dense_7 (Dense)              (None, 300)               235500    \n",
            "_________________________________________________________________\n",
            "leaky_re_lu_2 (LeakyReLU)    (None, 300)               0         \n",
            "_________________________________________________________________\n",
            "dense_8 (Dense)              (None, 100)               30100     \n",
            "_________________________________________________________________\n",
            "leaky_re_lu_3 (LeakyReLU)    (None, 100)               0         \n",
            "_________________________________________________________________\n",
            "dense_10 (Dense)             (None, 1)                 101       \n",
            "=================================================================\n",
            "Total params: 265,701\n",
            "Trainable params: 101\n",
            "Non-trainable params: 265,600\n",
            "_________________________________________________________________\n"
          ],
          "name": "stdout"
        }
      ]
    },
    {
      "cell_type": "code",
      "metadata": {
        "colab": {
          "base_uri": "https://localhost:8080/"
        },
        "id": "QQMy1-6bQppl",
        "outputId": "7029d62e-53cd-4f33-ec20-705dd776f42b"
      },
      "source": [
        "np.unique(y_train)"
      ],
      "execution_count": 63,
      "outputs": [
        {
          "output_type": "execute_result",
          "data": {
            "text/plain": [
              "array([0, 1, 2, 3, 4, 5, 6, 7, 8, 9], dtype=uint8)"
            ]
          },
          "metadata": {
            "tags": []
          },
          "execution_count": 63
        }
      ]
    },
    {
      "cell_type": "code",
      "metadata": {
        "colab": {
          "base_uri": "https://localhost:8080/"
        },
        "id": "5iapcnTzUVxE",
        "outputId": "2de604da-9437-4696-8ba2-01630451e9f6"
      },
      "source": [
        "new_model.compile(loss=\"binary_crossentropy\",\n",
        "              optimizer=tf.keras.optimizers.SGD(lr=1e-3),\n",
        "              metrics=[\"accuracy\"])"
      ],
      "execution_count": 64,
      "outputs": [
        {
          "output_type": "stream",
          "text": [
            "/usr/local/lib/python3.7/dist-packages/tensorflow/python/keras/optimizer_v2/optimizer_v2.py:375: UserWarning: The `lr` argument is deprecated, use `learning_rate` instead.\n",
            "  \"The `lr` argument is deprecated, use `learning_rate` instead.\")\n"
          ],
          "name": "stderr"
        }
      ]
    },
    {
      "cell_type": "code",
      "metadata": {
        "id": "Y3lb6e5Dnd7a"
      },
      "source": [
        "def update_labels(labels):\n",
        "  for idx, label in enumerate(labels):\n",
        "    labels[idx] = np.where(label > 5, 1, 0)\n",
        "  return labels"
      ],
      "execution_count": 65,
      "outputs": []
    },
    {
      "cell_type": "code",
      "metadata": {
        "id": "Bdk_eAOcnmrb"
      },
      "source": [
        "y_train_bin, y_test_bin, y_valid_bin = update_labels([y_train, y_test, y_valid])"
      ],
      "execution_count": 66,
      "outputs": []
    },
    {
      "cell_type": "code",
      "metadata": {
        "colab": {
          "base_uri": "https://localhost:8080/"
        },
        "id": "YYnZRbOFTfId",
        "outputId": "af44c82b-5157-401b-f598-b8a13f3b651a"
      },
      "source": [
        "history = new_model.fit(X_train, y_train_bin, epochs=15,\n",
        "                    validation_data=(X_valid, y_valid_bin), verbose=2)"
      ],
      "execution_count": 79,
      "outputs": [
        {
          "output_type": "stream",
          "text": [
            "Epoch 1/15\n",
            "1719/1719 - 3s - loss: 0.3369 - accuracy: 0.8689 - val_loss: 0.3207 - val_accuracy: 0.8782\n",
            "Epoch 2/15\n",
            "1719/1719 - 3s - loss: 0.3337 - accuracy: 0.8704 - val_loss: 0.3173 - val_accuracy: 0.8788\n",
            "Epoch 3/15\n",
            "1719/1719 - 3s - loss: 0.3308 - accuracy: 0.8714 - val_loss: 0.3144 - val_accuracy: 0.8792\n",
            "Epoch 4/15\n",
            "1719/1719 - 3s - loss: 0.3283 - accuracy: 0.8722 - val_loss: 0.3125 - val_accuracy: 0.8804\n",
            "Epoch 5/15\n",
            "1719/1719 - 3s - loss: 0.3260 - accuracy: 0.8729 - val_loss: 0.3094 - val_accuracy: 0.8790\n",
            "Epoch 6/15\n",
            "1719/1719 - 3s - loss: 0.3239 - accuracy: 0.8737 - val_loss: 0.3075 - val_accuracy: 0.8814\n",
            "Epoch 7/15\n",
            "1719/1719 - 3s - loss: 0.3220 - accuracy: 0.8741 - val_loss: 0.3053 - val_accuracy: 0.8810\n",
            "Epoch 8/15\n",
            "1719/1719 - 3s - loss: 0.3201 - accuracy: 0.8751 - val_loss: 0.3036 - val_accuracy: 0.8804\n",
            "Epoch 9/15\n",
            "1719/1719 - 3s - loss: 0.3185 - accuracy: 0.8759 - val_loss: 0.3019 - val_accuracy: 0.8812\n",
            "Epoch 10/15\n",
            "1719/1719 - 3s - loss: 0.3170 - accuracy: 0.8762 - val_loss: 0.3001 - val_accuracy: 0.8824\n",
            "Epoch 11/15\n",
            "1719/1719 - 3s - loss: 0.3155 - accuracy: 0.8770 - val_loss: 0.2988 - val_accuracy: 0.8832\n",
            "Epoch 12/15\n",
            "1719/1719 - 3s - loss: 0.3141 - accuracy: 0.8770 - val_loss: 0.2972 - val_accuracy: 0.8848\n",
            "Epoch 13/15\n",
            "1719/1719 - 3s - loss: 0.3129 - accuracy: 0.8778 - val_loss: 0.2963 - val_accuracy: 0.8844\n",
            "Epoch 14/15\n",
            "1719/1719 - 3s - loss: 0.3116 - accuracy: 0.8789 - val_loss: 0.2951 - val_accuracy: 0.8862\n",
            "Epoch 15/15\n",
            "1719/1719 - 3s - loss: 0.3105 - accuracy: 0.8790 - val_loss: 0.2937 - val_accuracy: 0.8872\n"
          ],
          "name": "stdout"
        }
      ]
    },
    {
      "cell_type": "code",
      "metadata": {
        "colab": {
          "base_uri": "https://localhost:8080/"
        },
        "id": "G-53DViKUS7I",
        "outputId": "c2387103-c722-4e81-94f1-ed88cbc82d84"
      },
      "source": [
        "new_model.evaluate(X_test, y_test_bin)"
      ],
      "execution_count": 80,
      "outputs": [
        {
          "output_type": "stream",
          "text": [
            "313/313 [==============================] - 1s 2ms/step - loss: 0.3034 - accuracy: 0.8834\n"
          ],
          "name": "stdout"
        },
        {
          "output_type": "execute_result",
          "data": {
            "text/plain": [
              "[0.3034229874610901, 0.883400022983551]"
            ]
          },
          "metadata": {
            "tags": []
          },
          "execution_count": 80
        }
      ]
    },
    {
      "cell_type": "code",
      "metadata": {
        "colab": {
          "base_uri": "https://localhost:8080/"
        },
        "id": "lwm0psIqWcUG",
        "outputId": "bde82fb6-35f1-4d1a-c9a7-1526acc9afc1"
      },
      "source": [
        "X_new = X_test[:5]\n",
        "\n",
        "y_test[:5], y_test_bin[:5]"
      ],
      "execution_count": 81,
      "outputs": [
        {
          "output_type": "execute_result",
          "data": {
            "text/plain": [
              "(array([7, 2, 1, 0, 4], dtype=uint8), array([1, 0, 0, 0, 0]))"
            ]
          },
          "metadata": {
            "tags": []
          },
          "execution_count": 81
        }
      ]
    },
    {
      "cell_type": "code",
      "metadata": {
        "colab": {
          "base_uri": "https://localhost:8080/"
        },
        "id": "Odx0FhqKWnot",
        "outputId": "abde0ad9-5581-41ab-eb0b-e0700592c232"
      },
      "source": [
        "np.round(new_model.predict(X_new))"
      ],
      "execution_count": 83,
      "outputs": [
        {
          "output_type": "execute_result",
          "data": {
            "text/plain": [
              "array([[1.],\n",
              "       [0.],\n",
              "       [0.],\n",
              "       [0.],\n",
              "       [0.]], dtype=float32)"
            ]
          },
          "metadata": {
            "tags": []
          },
          "execution_count": 83
        }
      ]
    }
  ]
}
